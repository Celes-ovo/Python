{
  "nbformat": 4,
  "nbformat_minor": 0,
  "metadata": {
    "colab": {
      "name": "3장 정리.ipynb",
      "provenance": [],
      "collapsed_sections": [],
      "include_colab_link": true
    },
    "kernelspec": {
      "name": "python3",
      "display_name": "Python 3"
    }
  },
  "cells": [
    {
      "cell_type": "markdown",
      "metadata": {
        "id": "view-in-github",
        "colab_type": "text"
      },
      "source": [
        "<a href=\"https://colab.research.google.com/github/Celes-ovo/Python/blob/main/3%EC%9E%A5_%EC%A0%95%EB%A6%AC.ipynb\" target=\"_parent\"><img src=\"https://colab.research.google.com/assets/colab-badge.svg\" alt=\"Open In Colab\"/></a>"
      ]
    },
    {
      "cell_type": "markdown",
      "metadata": {
        "id": "eOi2WHvTpnjQ"
      },
      "source": [
        "#<파이썬 3장 내용 정리>"
      ]
    },
    {
      "cell_type": "markdown",
      "metadata": {
        "id": "vkI0NTE6puLn"
      },
      "source": [
        "#1. abs(absolute value : 절댓값)"
      ]
    },
    {
      "cell_type": "code",
      "metadata": {
        "colab": {
          "base_uri": "https://localhost:8080/"
        },
        "id": "zvueNQrZvasa",
        "outputId": "725f584f-6157-43c1-ed20-687ba704d7d4"
      },
      "source": [
        "x = abs(-7) + abs(3.3)\r\n",
        "x"
      ],
      "execution_count": null,
      "outputs": [
        {
          "output_type": "execute_result",
          "data": {
            "text/plain": [
              "10.3"
            ]
          },
          "metadata": {
            "tags": []
          },
          "execution_count": 6
        }
      ]
    },
    {
      "cell_type": "code",
      "metadata": {
        "colab": {
          "base_uri": "https://localhost:8080/"
        },
        "id": "b-ixpsbupmts",
        "outputId": "c99cf1ee-4a92-4256-96b3-a61cda145f81"
      },
      "source": [
        "a = abs(-3.3)\r\n",
        "a"
      ],
      "execution_count": null,
      "outputs": [
        {
          "output_type": "execute_result",
          "data": {
            "text/plain": [
              "3.3"
            ]
          },
          "metadata": {
            "tags": []
          },
          "execution_count": 1
        }
      ]
    },
    {
      "cell_type": "markdown",
      "metadata": {
        "id": "PoZM_s6RvWtH"
      },
      "source": [
        "#2. pow\r\n",
        "###pow(power)\r\n",
        "\r\n",
        "\r\n",
        "power에 수가 2개 있을 때와 3개 있을 때의 차이를 보자"
      ]
    },
    {
      "cell_type": "markdown",
      "metadata": {
        "id": "31sI8uUbJQBT"
      },
      "source": [
        "* 먼저 수가 2개일 때."
      ]
    },
    {
      "cell_type": "code",
      "metadata": {
        "colab": {
          "base_uri": "https://localhost:8080/"
        },
        "id": "RGINq7VBJYVU",
        "outputId": "7f0c6332-d809-4be1-bff1-f272e99a1042"
      },
      "source": [
        "pow(2, 4)"
      ],
      "execution_count": null,
      "outputs": [
        {
          "output_type": "execute_result",
          "data": {
            "text/plain": [
              "16"
            ]
          },
          "metadata": {
            "tags": []
          },
          "execution_count": 22
        }
      ]
    },
    {
      "cell_type": "markdown",
      "metadata": {
        "id": "tNluXGOvJb78"
      },
      "source": [
        "2 ** 4와 같음을 볼 수 있다."
      ]
    },
    {
      "cell_type": "markdown",
      "metadata": {
        "id": "arGMCKooJiqL"
      },
      "source": [
        "* 다음으로 수가 3개일 때."
      ]
    },
    {
      "cell_type": "code",
      "metadata": {
        "colab": {
          "base_uri": "https://localhost:8080/"
        },
        "id": "HhEJnWZIJliL",
        "outputId": "2b5d767a-d73e-4706-99c3-5304f666dee1"
      },
      "source": [
        "pow(2, 4, 5)"
      ],
      "execution_count": null,
      "outputs": [
        {
          "output_type": "execute_result",
          "data": {
            "text/plain": [
              "1"
            ]
          },
          "metadata": {
            "tags": []
          },
          "execution_count": 23
        }
      ]
    },
    {
      "cell_type": "code",
      "metadata": {
        "colab": {
          "base_uri": "https://localhost:8080/"
        },
        "id": "xW1Ek0ZGJqNj",
        "outputId": "96369f2a-0e1d-4f7e-d88c-009ed66519c7"
      },
      "source": [
        "help(pow)"
      ],
      "execution_count": null,
      "outputs": [
        {
          "output_type": "stream",
          "text": [
            "Help on built-in function pow in module builtins:\n",
            "\n",
            "pow(x, y, z=None, /)\n",
            "    Equivalent to x**y (with two arguments) or x**y % z (with three arguments)\n",
            "    \n",
            "    Some types, such as ints, are able to use a more efficient algorithm when\n",
            "    invoked using the three argument form.\n",
            "\n"
          ],
          "name": "stdout"
        }
      ]
    },
    {
      "cell_type": "markdown",
      "metadata": {
        "id": "4JfYM5iUJtFr"
      },
      "source": [
        "> 위 설명에 따르면, pow는 세 개의 수일 때에는 x**y % z의 형태로 동작한다.\r\n",
        ">>따라서 (2**4)%3 이기 때문에 1이 나옴."
      ]
    },
    {
      "cell_type": "markdown",
      "metadata": {
        "id": "sNZh34-fHMHs"
      },
      "source": [
        "#3. round\r\n",
        "###round(반올림)"
      ]
    },
    {
      "cell_type": "code",
      "metadata": {
        "colab": {
          "base_uri": "https://localhost:8080/"
        },
        "id": "Cx3lxerWHbez",
        "outputId": "16590ce6-9267-46f6-bcdd-3bf2ee3d26fd"
      },
      "source": [
        "round(1.45)"
      ],
      "execution_count": null,
      "outputs": [
        {
          "output_type": "execute_result",
          "data": {
            "text/plain": [
              "1"
            ]
          },
          "metadata": {
            "tags": []
          },
          "execution_count": 20
        }
      ]
    },
    {
      "cell_type": "code",
      "metadata": {
        "colab": {
          "base_uri": "https://localhost:8080/"
        },
        "id": "038TbS1nHgL6",
        "outputId": "28e0b6c8-9dbe-40cf-d5c3-6e30d5887219"
      },
      "source": [
        "round(11.23345678, 4)"
      ],
      "execution_count": null,
      "outputs": [
        {
          "output_type": "execute_result",
          "data": {
            "text/plain": [
              "11.2335"
            ]
          },
          "metadata": {
            "tags": []
          },
          "execution_count": 21
        }
      ]
    },
    {
      "cell_type": "markdown",
      "metadata": {
        "id": "Pp2rhLWtHkvg"
      },
      "source": [
        "숫자 하나만 있을 때에는 그 수의 정수 반올림 값, 숫자가 두개일 때에는 앞의 수를 소숫점을 반올림해 뒤의 수만큼의 자리로 표기.\r\n",
        "\r\n",
        "> 예를 들어, 위의 코드의 경우 뒤의 수가 4이므로 4자리까지 반올림해 표기하였다."
      ]
    },
    {
      "cell_type": "markdown",
      "metadata": {
        "id": "MBnUSIuZH-Pz"
      },
      "source": [
        "# + abs, round, pow가 같이 있는 경우."
      ]
    },
    {
      "cell_type": "markdown",
      "metadata": {
        "id": "T-O9a839C6M6"
      },
      "source": [
        ">abs들이 각각 계산되고, +가 그 이후 처리됨."
      ]
    },
    {
      "cell_type": "code",
      "metadata": {
        "colab": {
          "base_uri": "https://localhost:8080/"
        },
        "id": "zq411j6p7j0y",
        "outputId": "df4b76f7-7b04-470e-a33b-055f4b3ceebd"
      },
      "source": [
        "y = pow(abs(-2), round(4.3))\r\n",
        "y"
      ],
      "execution_count": null,
      "outputs": [
        {
          "output_type": "execute_result",
          "data": {
            "text/plain": [
              "16"
            ]
          },
          "metadata": {
            "tags": []
          },
          "execution_count": 9
        }
      ]
    },
    {
      "cell_type": "markdown",
      "metadata": {
        "id": "YZGEg1zaCo_c"
      },
      "source": [
        "> pow(abs(-2), round(4.3)) 수식에서\r\n",
        "  abs(-2), round(4.3)가 각각 먼저 계산됨.\r\n",
        "\r\n",
        "     이때 abs, round 순으로 계산됨!!   \r\n",
        "\r\n",
        "  abs(-2) = 2, round(4.3) = 4\r\n",
        "\r\n",
        "  이후 pow(2, 4) = 16"
      ]
    },
    {
      "cell_type": "markdown",
      "metadata": {
        "id": "hmeg85_MEi08"
      },
      "source": [
        "#4. help"
      ]
    },
    {
      "cell_type": "markdown",
      "metadata": {
        "id": "w8uC2nh6Entq"
      },
      "source": [
        "아주아주 소중한 기능.    함수가 무엇인지 알고 싶을 때 설명을 읽을 수 있는 기능."
      ]
    },
    {
      "cell_type": "code",
      "metadata": {
        "colab": {
          "base_uri": "https://localhost:8080/"
        },
        "id": "oO3K7Mg4FOtk",
        "outputId": "e0808e05-d12a-429d-975e-b965649be4f8"
      },
      "source": [
        "help(abs)"
      ],
      "execution_count": null,
      "outputs": [
        {
          "output_type": "stream",
          "text": [
            "Help on built-in function abs in module builtins:\n",
            "\n",
            "abs(x, /)\n",
            "    Return the absolute value of the argument.\n",
            "\n"
          ],
          "name": "stdout"
        }
      ]
    },
    {
      "cell_type": "code",
      "metadata": {
        "colab": {
          "base_uri": "https://localhost:8080/"
        },
        "id": "LcltmvTTGJ2J",
        "outputId": "4e5f4107-2c1d-4957-bd35-9a905ba84812"
      },
      "source": [
        "help(round)"
      ],
      "execution_count": null,
      "outputs": [
        {
          "output_type": "stream",
          "text": [
            "Help on built-in function round in module builtins:\n",
            "\n",
            "round(...)\n",
            "    round(number[, ndigits]) -> number\n",
            "    \n",
            "    Round a number to a given precision in decimal digits (default 0 digits).\n",
            "    This returns an int when called with one argument, otherwise the\n",
            "    same type as the number. ndigits may be negative.\n",
            "\n"
          ],
          "name": "stdout"
        }
      ]
    },
    {
      "cell_type": "markdown",
      "metadata": {
        "id": "G7yO5QvjFZ3a"
      },
      "source": [
        "이 함수가 무엇인지, 함수의 설명이 나옴을 볼 수 있다!"
      ]
    },
    {
      "cell_type": "markdown",
      "metadata": {
        "id": "1Y1hVyUfFwdJ"
      },
      "source": [
        "# + int나 float 등은 함수로도 사용될 수 있다."
      ]
    },
    {
      "cell_type": "code",
      "metadata": {
        "colab": {
          "base_uri": "https://localhost:8080/"
        },
        "id": "hsdyANgNF7WB",
        "outputId": "d3b7a8be-7bcd-48ed-f46d-4f1a54830322"
      },
      "source": [
        "int(34.6)"
      ],
      "execution_count": null,
      "outputs": [
        {
          "output_type": "execute_result",
          "data": {
            "text/plain": [
              "34"
            ]
          },
          "metadata": {
            "tags": []
          },
          "execution_count": 19
        }
      ]
    },
    {
      "cell_type": "code",
      "metadata": {
        "colab": {
          "base_uri": "https://localhost:8080/"
        },
        "id": "EciznAbQGD36",
        "outputId": "2584df3f-2981-484f-9e04-ca7a8f4043e9"
      },
      "source": [
        "int(-4.3)"
      ],
      "execution_count": null,
      "outputs": [
        {
          "output_type": "execute_result",
          "data": {
            "text/plain": [
              "-4"
            ]
          },
          "metadata": {
            "tags": []
          },
          "execution_count": 14
        }
      ]
    },
    {
      "cell_type": "code",
      "metadata": {
        "colab": {
          "base_uri": "https://localhost:8080/"
        },
        "id": "STJJGrJ8GHK6",
        "outputId": "e5144d7c-9bdf-4ee3-f4a5-f27c411d99a7"
      },
      "source": [
        "float(21)\r\n"
      ],
      "execution_count": null,
      "outputs": [
        {
          "output_type": "execute_result",
          "data": {
            "text/plain": [
              "21.0"
            ]
          },
          "metadata": {
            "tags": []
          },
          "execution_count": 13
        }
      ]
    },
    {
      "cell_type": "markdown",
      "metadata": {
        "id": "Vw6rqVYOGmu8"
      },
      "source": [
        "> int와 float가 각각의 의미를 유지하면서 함수의 역할도 같이 해 줌을 볼 수 있다."
      ]
    },
    {
      "cell_type": "markdown",
      "metadata": {
        "id": "eAOqK4B0KsMN"
      },
      "source": [
        "#5. id"
      ]
    },
    {
      "cell_type": "markdown",
      "metadata": {
        "id": "Z5k97p8SKzwc"
      },
      "source": [
        "어떤 object의 메모리 주소를 볼 수 있는 함수"
      ]
    },
    {
      "cell_type": "code",
      "metadata": {
        "colab": {
          "base_uri": "https://localhost:8080/"
        },
        "id": "sJdg276_K-kT",
        "outputId": "cd05f552-677b-4c44-8f26-303a0699f613"
      },
      "source": [
        "help(id)"
      ],
      "execution_count": null,
      "outputs": [
        {
          "output_type": "stream",
          "text": [
            "Help on built-in function id in module builtins:\n",
            "\n",
            "id(obj, /)\n",
            "    Return the identity of an object.\n",
            "    \n",
            "    This is guaranteed to be unique among simultaneously existing objects.\n",
            "    (CPython uses the object's memory address.)\n",
            "\n"
          ],
          "name": "stdout"
        }
      ]
    },
    {
      "cell_type": "code",
      "metadata": {
        "colab": {
          "base_uri": "https://localhost:8080/"
        },
        "id": "c_mwSIXvLFQ7",
        "outputId": "f7f079a7-0e7c-4fe7-9598-a1c860bea501"
      },
      "source": [
        "id(256)"
      ],
      "execution_count": null,
      "outputs": [
        {
          "output_type": "execute_result",
          "data": {
            "text/plain": [
              "10922656"
            ]
          },
          "metadata": {
            "tags": []
          },
          "execution_count": 28
        }
      ]
    },
    {
      "cell_type": "code",
      "metadata": {
        "colab": {
          "base_uri": "https://localhost:8080/"
        },
        "id": "qNv6y4GSLLSD",
        "outputId": "b01c5e1d-ebcd-4056-88b2-0ec764f19646"
      },
      "source": [
        "id(2345)"
      ],
      "execution_count": null,
      "outputs": [
        {
          "output_type": "execute_result",
          "data": {
            "text/plain": [
              "140642997747152"
            ]
          },
          "metadata": {
            "tags": []
          },
          "execution_count": 29
        }
      ]
    },
    {
      "cell_type": "code",
      "metadata": {
        "colab": {
          "base_uri": "https://localhost:8080/"
        },
        "id": "S8MXkrqTLOjM",
        "outputId": "870f7bcb-a364-4966-afd9-824be495e176"
      },
      "source": [
        "id(21347845645)"
      ],
      "execution_count": null,
      "outputs": [
        {
          "output_type": "execute_result",
          "data": {
            "text/plain": [
              "140642997744976"
            ]
          },
          "metadata": {
            "tags": []
          },
          "execution_count": 30
        }
      ]
    },
    {
      "cell_type": "code",
      "metadata": {
        "colab": {
          "base_uri": "https://localhost:8080/"
        },
        "id": "-NmnlBLzLUqD",
        "outputId": "fbb9c5fa-7e68-4fd6-d744-7da8be104070"
      },
      "source": [
        "test = 123\r\n",
        "id(test)"
      ],
      "execution_count": null,
      "outputs": [
        {
          "output_type": "execute_result",
          "data": {
            "text/plain": [
              "10918400"
            ]
          },
          "metadata": {
            "tags": []
          },
          "execution_count": 32
        }
      ]
    },
    {
      "cell_type": "markdown",
      "metadata": {
        "id": "R2CocYEOK7_5"
      },
      "source": [
        "> 빈 공간 중 아무 데나 저장되기 때문에 사람에 따라 결과는 다름!"
      ]
    },
    {
      "cell_type": "markdown",
      "metadata": {
        "id": "17zXfVnRLnXl"
      },
      "source": [
        "#6. 함수 지정하기(함수 만들기)"
      ]
    },
    {
      "cell_type": "markdown",
      "metadata": {
        "id": "z-URzdYZMOvk"
      },
      "source": [
        "여태 우리가 수많은 예제를 하며 많이 해 온 활동임!\r\n",
        "대신, 정의를 해 줘야 한다."
      ]
    },
    {
      "cell_type": "code",
      "metadata": {
        "colab": {
          "base_uri": "https://localhost:8080/",
          "height": 136
        },
        "id": "8aJR9ahfY-kd",
        "outputId": "6bde4479-7ce3-4d1a-9c4c-efc9dc89c8f4"
      },
      "source": [
        "def convert_to_celsius(fahrenheit):\r\n",
        "return (fahrenheit - 32) * 5 / 9\r\n",
        "\r\n",
        "convert_to_celsius(80)"
      ],
      "execution_count": null,
      "outputs": [
        {
          "output_type": "error",
          "ename": "IndentationError",
          "evalue": "ignored",
          "traceback": [
            "\u001b[0;36m  File \u001b[0;32m\"<ipython-input-33-dfcc43b667cc>\"\u001b[0;36m, line \u001b[0;32m2\u001b[0m\n\u001b[0;31m    return (fahrenheit - 32) * 5 / 9\u001b[0m\n\u001b[0m         ^\u001b[0m\n\u001b[0;31mIndentationError\u001b[0m\u001b[0;31m:\u001b[0m expected an indented block\n"
          ]
        }
      ]
    },
    {
      "cell_type": "markdown",
      "metadata": {
        "id": "mjNATKsiZA_U"
      },
      "source": [
        "> 함수를 정의했을 땐 정의 내용을 어느 정도의 간격으로 띄워줘야 됨!"
      ]
    },
    {
      "cell_type": "code",
      "metadata": {
        "colab": {
          "base_uri": "https://localhost:8080/"
        },
        "id": "awB9XTm-ZFGN",
        "outputId": "66b2e891-57b0-4297-8e2e-5178a1134437"
      },
      "source": [
        "def convert_to_celsius(fahrenheit):\r\n",
        "  return (fahrenheit - 32) * 5 / 9\r\n",
        "\r\n",
        "convert_to_celsius(80)"
      ],
      "execution_count": null,
      "outputs": [
        {
          "output_type": "execute_result",
          "data": {
            "text/plain": [
              "26.666666666666668"
            ]
          },
          "metadata": {
            "tags": []
          },
          "execution_count": 34
        }
      ]
    },
    {
      "cell_type": "markdown",
      "metadata": {
        "id": "bNkgVTB9ZcCs"
      },
      "source": [
        ">1. Python **executes the function definition**, which creates the function object\r\n",
        "(but doesn’t execute it yet).\r\n",
        "2. Next, Python **executes function** call convert_to_celsius(80). To do this, it assigns 80 to fahrenheit (which is a variable). For the duration of this function call, fahrenheit refers to 80.\r\n",
        "3. Python now **executes the return statement**. fahrenheit refers to 80, so the\r\n",
        "expression that appears after return is equivalent to (80 - 32) * 5 /9. WhenPython evaluates that expression, 26.666666666666668 is produced. We use the word return to tell Python what value to produce as the result of the function call, so the result of calling convert_to_celsius(80) is 26.666666666666668.\r\n",
        "4. Once Python has finished executing the function call, it returns to the place where the function was originally called.\r\n"
      ]
    },
    {
      "cell_type": "markdown",
      "metadata": {
        "id": "vRUO1yW5jKHb"
      },
      "source": [
        "#7. 지역 변수 (Local Variables)"
      ]
    },
    {
      "cell_type": "markdown",
      "metadata": {
        "id": "QZ-n9FqHg_vf"
      },
      "source": [
        "함수 안의 모든 statement들은 같은 크기의 공간을 가진다."
      ]
    },
    {
      "cell_type": "code",
      "metadata": {
        "id": "6gswnRJvjaZ2"
      },
      "source": [
        "def quadratic(a, b, c, x):\r\n",
        "  first = a * x ** 2\r\n",
        "  second = b * x\r\n",
        "  third = c\r\n",
        "  return first + second + third\r\n",
        "\r\n",
        "# quadratic이라는 함수 내에 first, second, third라는 local variable들을 사용하였다."
      ],
      "execution_count": null,
      "outputs": []
    },
    {
      "cell_type": "code",
      "metadata": {
        "colab": {
          "base_uri": "https://localhost:8080/"
        },
        "id": "5hdON7saj8eM",
        "outputId": "56f85b06-2c43-40d7-d8a5-a0c71d379629"
      },
      "source": [
        "a = quadratic(2, 3, 4, 0.5)\r\n",
        "a"
      ],
      "execution_count": null,
      "outputs": [
        {
          "output_type": "execute_result",
          "data": {
            "text/plain": [
              "6.0"
            ]
          },
          "metadata": {
            "tags": []
          },
          "execution_count": 42
        }
      ]
    },
    {
      "cell_type": "code",
      "metadata": {
        "colab": {
          "base_uri": "https://localhost:8080/"
        },
        "id": "UDGu7iGZj-kL",
        "outputId": "5c635ea4-8815-461e-b7fb-a6d2276418b2"
      },
      "source": [
        "b = quadratic(2, 3, 4, 1.5)\r\n",
        "b"
      ],
      "execution_count": null,
      "outputs": [
        {
          "output_type": "execute_result",
          "data": {
            "text/plain": [
              "13.0"
            ]
          },
          "metadata": {
            "tags": []
          },
          "execution_count": 43
        }
      ]
    },
    {
      "cell_type": "markdown",
      "metadata": {
        "id": "RFd44Y9IkBcL"
      },
      "source": [
        "Local Variable들은 함수가 호출될 때 생성되고, 함수가 return될 때 지워진다.   \r\n",
        "즉 함수 밖에서는 사용이 안 되며, 함수 밖에서 사용하려고 하면 에러가 남!"
      ]
    },
    {
      "cell_type": "markdown",
      "metadata": {
        "id": "i6wVCBqnprVf"
      },
      "source": [
        "# 8. Namespace"
      ]
    },
    {
      "cell_type": "markdown",
      "metadata": {
        "id": "T09NM4vCp1-M"
      },
      "source": [
        "파이썬이 함수를 호출할 때 → Local Variable들의 값을 저장할 namespace를 생성한다. = 값을 적어놓는 종이쪼가리라고 생각할 수 있음!   \r\n",
        "> 함수가 호출될 때 namespace를 꺼내고 → 함수가 종료될 때까지 쭉 유지하다가 → 함수가 종료되고 나면 namespace는 버려짐   \r\n",
        ">> 1. Evaluate the arguments left to right.\r\n",
        "2. Create a namespace to hold the function call’s local variables, including\r\n",
        "the parameters.\r\n",
        "3. Pass the resulting argument values into the function by assigning them\r\n",
        "to the parameters.\r\n",
        "4. Execute the function body. As before, when a return statement is executed,\r\n",
        "execution of the body terminates and the value of the expression in the\r\n",
        "return statement is used as the value of the function call."
      ]
    },
    {
      "cell_type": "markdown",
      "metadata": {
        "id": "vB1mKtJkuzc2"
      },
      "source": [
        "# + 책의 코드 설명"
      ]
    },
    {
      "cell_type": "code",
      "metadata": {
        "id": "bnhVCBH1vB9F"
      },
      "source": [
        "#코드\r\n",
        "\r\n",
        "def f(x):\r\n",
        "  x = 2 * x\r\n",
        "  return x\r\n",
        "\r\n",
        "x = 1\r\n",
        "x = f(x + 1) + f(x + 2)"
      ],
      "execution_count": null,
      "outputs": []
    },
    {
      "cell_type": "markdown",
      "metadata": {
        "id": "toRHVnhXvE7s"
      },
      "source": [
        "> * def f(x):   \r\n",
        "   x = 2 * x 부분이 먼저 동작\r\n",
        "\r\n",
        "   ![image.png](data:image/png;base64,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)"
      ]
    },
    {
      "cell_type": "markdown",
      "metadata": {
        "id": "25jsEsxisqc1"
      },
      "source": [
        "> * 그 다음으로   \r\n",
        " x = 1 이 동작.\r\n",
        "\r\n",
        "   ![image.png](data:image/png;base64,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)"
      ]
    },
    {
      "cell_type": "markdown",
      "metadata": {
        "id": "8vZtKYPjtLJA"
      },
      "source": [
        "> * 마지막으로\r\n",
        " x = f(x + 1) + f(x + 2)가 동작한다."
      ]
    },
    {
      "cell_type": "markdown",
      "metadata": {
        "id": "Yl6Mxq_k6a5i"
      },
      "source": [
        "#9. 함수 만들기   \r\n",
        "   \r\n",
        "   - 이름을 무엇으로 지을 것인가?\r\n",
        "   - parameter들과 어떤 정보를 참조하는지를 본다,   \r\n",
        "   - 그 정보로 어떤 계산을 할 것인지\r\n",
        "   - 그 함수가 어떤 정보를 반환(return)하는가?\r\n",
        "   - 원하는 대로 작동하는가??"
      ]
    },
    {
      "cell_type": "markdown",
      "metadata": {
        "id": "4KMRa3DsibdP"
      },
      "source": [
        "#10. Docstring\r\n",
        "   \r\n",
        "   주석을 달 수 있다.\r\n",
        "   > '#' : 그 줄만 주석   \r\n",
        "   \"\"\" : \"\"\"의 시작부터 끝의 \"\"\"까지 주석"
      ]
    },
    {
      "cell_type": "code",
      "metadata": {
        "id": "BXo0Ymo8ixCJ"
      },
      "source": [
        "# 이 줄은 주석입니다.\r\n",
        "   \r\n",
        "   \"\"\"\r\n",
        "   여기부터\r\n",
        "   여기까지\r\n",
        "   주석입니다.\r\n",
        "   \r\n",
        "   \"\"\""
      ],
      "execution_count": null,
      "outputs": []
    },
    {
      "cell_type": "code",
      "metadata": {
        "id": "L9WoXh1dnjOf"
      },
      "source": [
        " def days_difference(day1: int, day2: int) -> int:\r\n",
        "   return day2 - day1\r\n",
        "\r\n",
        "   \"\"\"Return the number of days between day1 and day2,\r\n",
        "   which are both in the range 1-365 (thus indicating the day of the year).\r\n",
        "   \"\"\"\r\n",
        "   "
      ],
      "execution_count": null,
      "outputs": []
    },
    {
      "cell_type": "code",
      "metadata": {
        "colab": {
          "base_uri": "https://localhost:8080/"
        },
        "id": "_iQIvWADn2_H",
        "outputId": "5ba62881-1526-4e76-c40c-64ae9b107d8e"
      },
      "source": [
        "   days_difference(200, 224)"
      ],
      "execution_count": null,
      "outputs": [
        {
          "output_type": "execute_result",
          "data": {
            "text/plain": [
              "24"
            ]
          },
          "metadata": {
            "tags": []
          },
          "execution_count": 3
        }
      ]
    },
    {
      "cell_type": "code",
      "metadata": {
        "colab": {
          "base_uri": "https://localhost:8080/"
        },
        "id": "Qj1v9i6tn4vm",
        "outputId": "9e0d0f7b-d55d-4cea-f505-c663d9688b23"
      },
      "source": [
        "days_difference(100, 99)"
      ],
      "execution_count": null,
      "outputs": [
        {
          "output_type": "execute_result",
          "data": {
            "text/plain": [
              "-1"
            ]
          },
          "metadata": {
            "tags": []
          },
          "execution_count": 4
        }
      ]
    },
    {
      "cell_type": "markdown",
      "metadata": {
        "id": "5VL_bFR-enYP"
      },
      "source": [
        "# 11. None 값 반환"
      ]
    },
    {
      "cell_type": "code",
      "metadata": {
        "id": "NfHje7xxevnY"
      },
      "source": [
        "def f(x):\r\n",
        "  return 2*x"
      ],
      "execution_count": null,
      "outputs": []
    },
    {
      "cell_type": "code",
      "metadata": {
        "colab": {
          "base_uri": "https://localhost:8080/"
        },
        "id": "WZZZFJAOe8sM",
        "outputId": "fbb68149-3934-416e-8b23-55780fbd703f"
      },
      "source": [
        "res = f(3)\r\n",
        "res"
      ],
      "execution_count": null,
      "outputs": [
        {
          "output_type": "execute_result",
          "data": {
            "text/plain": [
              "6"
            ]
          },
          "metadata": {
            "tags": []
          },
          "execution_count": 11
        }
      ]
    },
    {
      "cell_type": "markdown",
      "metadata": {
        "id": "psoXTFl0iv1c"
      },
      "source": [
        "다시 해 봅시다."
      ]
    },
    {
      "cell_type": "code",
      "metadata": {
        "id": "HVvTPNnAivHx"
      },
      "source": [
        "def f(x):\r\n",
        "  x = 2 * x"
      ],
      "execution_count": null,
      "outputs": []
    },
    {
      "cell_type": "code",
      "metadata": {
        "colab": {
          "base_uri": "https://localhost:8080/"
        },
        "id": "WqqS4-vni3dN",
        "outputId": "f3404dac-d2de-4ef5-87f0-3aac4207b361"
      },
      "source": [
        "res = f(3)\r\n",
        "res"
      ],
      "execution_count": null,
      "outputs": [
        {
          "output_type": "execute_result",
          "data": {
            "text/plain": [
              "6"
            ]
          },
          "metadata": {
            "tags": []
          },
          "execution_count": 12
        }
      ]
    },
    {
      "cell_type": "code",
      "metadata": {
        "colab": {
          "base_uri": "https://localhost:8080/"
        },
        "id": "HcwkjSnZjy15",
        "outputId": "7c36dfb9-5cd4-4dbb-c989-12e7afa22b59"
      },
      "source": [
        "print(res)"
      ],
      "execution_count": null,
      "outputs": [
        {
          "output_type": "stream",
          "text": [
            "6\n"
          ],
          "name": "stdout"
        }
      ]
    },
    {
      "cell_type": "markdown",
      "metadata": {
        "id": "aqSeFWQ4kZPN"
      },
      "source": [
        "![image.png](data:image/png;base64,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)"
      ]
    },
    {
      "cell_type": "markdown",
      "metadata": {
        "id": "936VseikoS87"
      },
      "source": [
        "왜 다른지는 조금 더 생각해 보자..."
      ]
    },
    {
      "cell_type": "markdown",
      "metadata": {
        "id": "7lsLjF-Fq7QT"
      },
      "source": [
        "None도 하나의 값으로 취급되며, 메모리 주소도 있음!   \r\n",
        "값이 없을 경우, 그 값을 나타내기 위해 사용함."
      ]
    }
  ]
}