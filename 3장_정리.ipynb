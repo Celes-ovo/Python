{
  "nbformat": 4,
  "nbformat_minor": 0,
  "metadata": {
    "colab": {
      "name": "3장 정리.ipynb",
      "provenance": [],
      "collapsed_sections": [],
      "authorship_tag": "ABX9TyNHvVifLX62z1Kz/3ZGeEbY",
      "include_colab_link": true
    },
    "kernelspec": {
      "name": "python3",
      "display_name": "Python 3"
    }
  },
  "cells": [
    {
      "cell_type": "markdown",
      "metadata": {
        "id": "view-in-github",
        "colab_type": "text"
      },
      "source": [
        "<a href=\"https://colab.research.google.com/github/Celes-ovo/Python/blob/main/3%EC%9E%A5_%EC%A0%95%EB%A6%AC.ipynb\" target=\"_parent\"><img src=\"https://colab.research.google.com/assets/colab-badge.svg\" alt=\"Open In Colab\"/></a>"
      ]
    },
    {
      "cell_type": "markdown",
      "metadata": {
        "id": "eOi2WHvTpnjQ"
      },
      "source": [
        "#<파이썬 3장 내용 정리>"
      ]
    },
    {
      "cell_type": "markdown",
      "metadata": {
        "id": "vkI0NTE6puLn"
      },
      "source": [
        "#1. abs(absolute value : 절댓값)"
      ]
    },
    {
      "cell_type": "code",
      "metadata": {
        "colab": {
          "base_uri": "https://localhost:8080/"
        },
        "id": "zvueNQrZvasa",
        "outputId": "725f584f-6157-43c1-ed20-687ba704d7d4"
      },
      "source": [
        "x = abs(-7) + abs(3.3)\r\n",
        "x"
      ],
      "execution_count": null,
      "outputs": [
        {
          "output_type": "execute_result",
          "data": {
            "text/plain": [
              "10.3"
            ]
          },
          "metadata": {
            "tags": []
          },
          "execution_count": 6
        }
      ]
    },
    {
      "cell_type": "code",
      "metadata": {
        "colab": {
          "base_uri": "https://localhost:8080/"
        },
        "id": "b-ixpsbupmts",
        "outputId": "c99cf1ee-4a92-4256-96b3-a61cda145f81"
      },
      "source": [
        "a = abs(-3.3)\r\n",
        "a"
      ],
      "execution_count": null,
      "outputs": [
        {
          "output_type": "execute_result",
          "data": {
            "text/plain": [
              "3.3"
            ]
          },
          "metadata": {
            "tags": []
          },
          "execution_count": 1
        }
      ]
    },
    {
      "cell_type": "markdown",
      "metadata": {
        "id": "PoZM_s6RvWtH"
      },
      "source": [
        "#2. pow\r\n",
        "###pow(power)\r\n",
        "\r\n",
        "\r\n",
        "power에 수가 2개 있을 때와 3개 있을 때의 차이를 보자"
      ]
    },
    {
      "cell_type": "markdown",
      "metadata": {
        "id": "31sI8uUbJQBT"
      },
      "source": [
        "* 먼저 수가 2개일 때."
      ]
    },
    {
      "cell_type": "code",
      "metadata": {
        "colab": {
          "base_uri": "https://localhost:8080/"
        },
        "id": "RGINq7VBJYVU",
        "outputId": "7f0c6332-d809-4be1-bff1-f272e99a1042"
      },
      "source": [
        "pow(2, 4)"
      ],
      "execution_count": null,
      "outputs": [
        {
          "output_type": "execute_result",
          "data": {
            "text/plain": [
              "16"
            ]
          },
          "metadata": {
            "tags": []
          },
          "execution_count": 22
        }
      ]
    },
    {
      "cell_type": "markdown",
      "metadata": {
        "id": "tNluXGOvJb78"
      },
      "source": [
        "2 ** 4와 같음을 볼 수 있다."
      ]
    },
    {
      "cell_type": "markdown",
      "metadata": {
        "id": "arGMCKooJiqL"
      },
      "source": [
        "* 다음으로 수가 3개일 때."
      ]
    },
    {
      "cell_type": "code",
      "metadata": {
        "colab": {
          "base_uri": "https://localhost:8080/"
        },
        "id": "HhEJnWZIJliL",
        "outputId": "2b5d767a-d73e-4706-99c3-5304f666dee1"
      },
      "source": [
        "pow(2, 4, 5)"
      ],
      "execution_count": null,
      "outputs": [
        {
          "output_type": "execute_result",
          "data": {
            "text/plain": [
              "1"
            ]
          },
          "metadata": {
            "tags": []
          },
          "execution_count": 23
        }
      ]
    },
    {
      "cell_type": "code",
      "metadata": {
        "colab": {
          "base_uri": "https://localhost:8080/"
        },
        "id": "xW1Ek0ZGJqNj",
        "outputId": "96369f2a-0e1d-4f7e-d88c-009ed66519c7"
      },
      "source": [
        "help(pow)"
      ],
      "execution_count": null,
      "outputs": [
        {
          "output_type": "stream",
          "text": [
            "Help on built-in function pow in module builtins:\n",
            "\n",
            "pow(x, y, z=None, /)\n",
            "    Equivalent to x**y (with two arguments) or x**y % z (with three arguments)\n",
            "    \n",
            "    Some types, such as ints, are able to use a more efficient algorithm when\n",
            "    invoked using the three argument form.\n",
            "\n"
          ],
          "name": "stdout"
        }
      ]
    },
    {
      "cell_type": "markdown",
      "metadata": {
        "id": "4JfYM5iUJtFr"
      },
      "source": [
        "> 위 설명에 따르면, pow는 세 개의 수일 때에는 x**y % z의 형태로 동작한다.\r\n",
        ">>따라서 (2**4)%3 이기 때문에 1이 나옴."
      ]
    },
    {
      "cell_type": "markdown",
      "metadata": {
        "id": "sNZh34-fHMHs"
      },
      "source": [
        "#3. round\r\n",
        "###round(반올림)"
      ]
    },
    {
      "cell_type": "code",
      "metadata": {
        "colab": {
          "base_uri": "https://localhost:8080/"
        },
        "id": "Cx3lxerWHbez",
        "outputId": "16590ce6-9267-46f6-bcdd-3bf2ee3d26fd"
      },
      "source": [
        "round(1.45)"
      ],
      "execution_count": null,
      "outputs": [
        {
          "output_type": "execute_result",
          "data": {
            "text/plain": [
              "1"
            ]
          },
          "metadata": {
            "tags": []
          },
          "execution_count": 20
        }
      ]
    },
    {
      "cell_type": "code",
      "metadata": {
        "colab": {
          "base_uri": "https://localhost:8080/"
        },
        "id": "038TbS1nHgL6",
        "outputId": "28e0b6c8-9dbe-40cf-d5c3-6e30d5887219"
      },
      "source": [
        "round(11.23345678, 4)"
      ],
      "execution_count": null,
      "outputs": [
        {
          "output_type": "execute_result",
          "data": {
            "text/plain": [
              "11.2335"
            ]
          },
          "metadata": {
            "tags": []
          },
          "execution_count": 21
        }
      ]
    },
    {
      "cell_type": "markdown",
      "metadata": {
        "id": "Pp2rhLWtHkvg"
      },
      "source": [
        "숫자 하나만 있을 때에는 그 수의 정수 반올림 값, 숫자가 두개일 때에는 앞의 수를 소숫점을 반올림해 뒤의 수만큼의 자리로 표기.\r\n",
        "\r\n",
        "> 예를 들어, 위의 코드의 경우 뒤의 수가 4이므로 4자리까지 반올림해 표기하였다."
      ]
    },
    {
      "cell_type": "markdown",
      "metadata": {
        "id": "MBnUSIuZH-Pz"
      },
      "source": [
        "# + abs, round, pow가 같이 있는 경우."
      ]
    },
    {
      "cell_type": "markdown",
      "metadata": {
        "id": "T-O9a839C6M6"
      },
      "source": [
        ">abs들이 각각 계산되고, +가 그 이후 처리됨."
      ]
    },
    {
      "cell_type": "code",
      "metadata": {
        "colab": {
          "base_uri": "https://localhost:8080/"
        },
        "id": "zq411j6p7j0y",
        "outputId": "df4b76f7-7b04-470e-a33b-055f4b3ceebd"
      },
      "source": [
        "y = pow(abs(-2), round(4.3))\r\n",
        "y"
      ],
      "execution_count": null,
      "outputs": [
        {
          "output_type": "execute_result",
          "data": {
            "text/plain": [
              "16"
            ]
          },
          "metadata": {
            "tags": []
          },
          "execution_count": 9
        }
      ]
    },
    {
      "cell_type": "markdown",
      "metadata": {
        "id": "YZGEg1zaCo_c"
      },
      "source": [
        "> pow(abs(-2), round(4.3)) 수식에서\r\n",
        "  abs(-2), round(4.3)가 각각 먼저 계산됨.\r\n",
        "\r\n",
        "     이때 abs, round 순으로 계산됨!!   \r\n",
        "\r\n",
        "  abs(-2) = 2, round(4.3) = 4\r\n",
        "\r\n",
        "  이후 pow(2, 4) = 16"
      ]
    },
    {
      "cell_type": "markdown",
      "metadata": {
        "id": "hmeg85_MEi08"
      },
      "source": [
        "#4. help"
      ]
    },
    {
      "cell_type": "markdown",
      "metadata": {
        "id": "w8uC2nh6Entq"
      },
      "source": [
        "아주아주 소중한 기능.    함수가 무엇인지 알고 싶을 때 설명을 읽을 수 있는 기능."
      ]
    },
    {
      "cell_type": "code",
      "metadata": {
        "colab": {
          "base_uri": "https://localhost:8080/"
        },
        "id": "oO3K7Mg4FOtk",
        "outputId": "e0808e05-d12a-429d-975e-b965649be4f8"
      },
      "source": [
        "help(abs)"
      ],
      "execution_count": null,
      "outputs": [
        {
          "output_type": "stream",
          "text": [
            "Help on built-in function abs in module builtins:\n",
            "\n",
            "abs(x, /)\n",
            "    Return the absolute value of the argument.\n",
            "\n"
          ],
          "name": "stdout"
        }
      ]
    },
    {
      "cell_type": "code",
      "metadata": {
        "colab": {
          "base_uri": "https://localhost:8080/"
        },
        "id": "LcltmvTTGJ2J",
        "outputId": "4e5f4107-2c1d-4957-bd35-9a905ba84812"
      },
      "source": [
        "help(round)"
      ],
      "execution_count": null,
      "outputs": [
        {
          "output_type": "stream",
          "text": [
            "Help on built-in function round in module builtins:\n",
            "\n",
            "round(...)\n",
            "    round(number[, ndigits]) -> number\n",
            "    \n",
            "    Round a number to a given precision in decimal digits (default 0 digits).\n",
            "    This returns an int when called with one argument, otherwise the\n",
            "    same type as the number. ndigits may be negative.\n",
            "\n"
          ],
          "name": "stdout"
        }
      ]
    },
    {
      "cell_type": "markdown",
      "metadata": {
        "id": "G7yO5QvjFZ3a"
      },
      "source": [
        "이 함수가 무엇인지, 함수의 설명이 나옴을 볼 수 있다!"
      ]
    },
    {
      "cell_type": "markdown",
      "metadata": {
        "id": "1Y1hVyUfFwdJ"
      },
      "source": [
        "# + int나 float 등은 함수로도 사용될 수 있다."
      ]
    },
    {
      "cell_type": "code",
      "metadata": {
        "colab": {
          "base_uri": "https://localhost:8080/"
        },
        "id": "hsdyANgNF7WB",
        "outputId": "d3b7a8be-7bcd-48ed-f46d-4f1a54830322"
      },
      "source": [
        "int(34.6)"
      ],
      "execution_count": null,
      "outputs": [
        {
          "output_type": "execute_result",
          "data": {
            "text/plain": [
              "34"
            ]
          },
          "metadata": {
            "tags": []
          },
          "execution_count": 19
        }
      ]
    },
    {
      "cell_type": "code",
      "metadata": {
        "colab": {
          "base_uri": "https://localhost:8080/"
        },
        "id": "EciznAbQGD36",
        "outputId": "2584df3f-2981-484f-9e04-ca7a8f4043e9"
      },
      "source": [
        "int(-4.3)"
      ],
      "execution_count": null,
      "outputs": [
        {
          "output_type": "execute_result",
          "data": {
            "text/plain": [
              "-4"
            ]
          },
          "metadata": {
            "tags": []
          },
          "execution_count": 14
        }
      ]
    },
    {
      "cell_type": "code",
      "metadata": {
        "colab": {
          "base_uri": "https://localhost:8080/"
        },
        "id": "STJJGrJ8GHK6",
        "outputId": "e5144d7c-9bdf-4ee3-f4a5-f27c411d99a7"
      },
      "source": [
        "float(21)\r\n"
      ],
      "execution_count": null,
      "outputs": [
        {
          "output_type": "execute_result",
          "data": {
            "text/plain": [
              "21.0"
            ]
          },
          "metadata": {
            "tags": []
          },
          "execution_count": 13
        }
      ]
    },
    {
      "cell_type": "markdown",
      "metadata": {
        "id": "Vw6rqVYOGmu8"
      },
      "source": [
        "> int와 float가 각각의 의미를 유지하면서 함수의 역할도 같이 해 줌을 볼 수 있다."
      ]
    },
    {
      "cell_type": "markdown",
      "metadata": {
        "id": "eAOqK4B0KsMN"
      },
      "source": [
        "#5. id"
      ]
    },
    {
      "cell_type": "markdown",
      "metadata": {
        "id": "Z5k97p8SKzwc"
      },
      "source": [
        "어떤 object의 메모리 주소를 볼 수 있는 함수"
      ]
    },
    {
      "cell_type": "code",
      "metadata": {
        "colab": {
          "base_uri": "https://localhost:8080/"
        },
        "id": "sJdg276_K-kT",
        "outputId": "cd05f552-677b-4c44-8f26-303a0699f613"
      },
      "source": [
        "help(id)"
      ],
      "execution_count": null,
      "outputs": [
        {
          "output_type": "stream",
          "text": [
            "Help on built-in function id in module builtins:\n",
            "\n",
            "id(obj, /)\n",
            "    Return the identity of an object.\n",
            "    \n",
            "    This is guaranteed to be unique among simultaneously existing objects.\n",
            "    (CPython uses the object's memory address.)\n",
            "\n"
          ],
          "name": "stdout"
        }
      ]
    },
    {
      "cell_type": "code",
      "metadata": {
        "colab": {
          "base_uri": "https://localhost:8080/"
        },
        "id": "c_mwSIXvLFQ7",
        "outputId": "f7f079a7-0e7c-4fe7-9598-a1c860bea501"
      },
      "source": [
        "id(256)"
      ],
      "execution_count": null,
      "outputs": [
        {
          "output_type": "execute_result",
          "data": {
            "text/plain": [
              "10922656"
            ]
          },
          "metadata": {
            "tags": []
          },
          "execution_count": 28
        }
      ]
    },
    {
      "cell_type": "code",
      "metadata": {
        "colab": {
          "base_uri": "https://localhost:8080/"
        },
        "id": "qNv6y4GSLLSD",
        "outputId": "b01c5e1d-ebcd-4056-88b2-0ec764f19646"
      },
      "source": [
        "id(2345)"
      ],
      "execution_count": null,
      "outputs": [
        {
          "output_type": "execute_result",
          "data": {
            "text/plain": [
              "140642997747152"
            ]
          },
          "metadata": {
            "tags": []
          },
          "execution_count": 29
        }
      ]
    },
    {
      "cell_type": "code",
      "metadata": {
        "colab": {
          "base_uri": "https://localhost:8080/"
        },
        "id": "S8MXkrqTLOjM",
        "outputId": "870f7bcb-a364-4966-afd9-824be495e176"
      },
      "source": [
        "id(21347845645)"
      ],
      "execution_count": null,
      "outputs": [
        {
          "output_type": "execute_result",
          "data": {
            "text/plain": [
              "140642997744976"
            ]
          },
          "metadata": {
            "tags": []
          },
          "execution_count": 30
        }
      ]
    },
    {
      "cell_type": "code",
      "metadata": {
        "colab": {
          "base_uri": "https://localhost:8080/"
        },
        "id": "-NmnlBLzLUqD",
        "outputId": "fbb9c5fa-7e68-4fd6-d744-7da8be104070"
      },
      "source": [
        "test = 123\r\n",
        "id(test)"
      ],
      "execution_count": null,
      "outputs": [
        {
          "output_type": "execute_result",
          "data": {
            "text/plain": [
              "10918400"
            ]
          },
          "metadata": {
            "tags": []
          },
          "execution_count": 32
        }
      ]
    },
    {
      "cell_type": "markdown",
      "metadata": {
        "id": "R2CocYEOK7_5"
      },
      "source": [
        "> 빈 공간 중 아무 데나 저장되기 때문에 사람에 따라 결과는 다름!"
      ]
    },
    {
      "cell_type": "markdown",
      "metadata": {
        "id": "17zXfVnRLnXl"
      },
      "source": [
        "#6. 함수 지정하기(함수 만들기)"
      ]
    },
    {
      "cell_type": "markdown",
      "metadata": {
        "id": "z-URzdYZMOvk"
      },
      "source": [
        "여태 우리가 수많은 예제를 하며 많이 해 온 활동임!\r\n",
        "대신, 정의를 해 줘야 한다."
      ]
    },
    {
      "cell_type": "code",
      "metadata": {
        "colab": {
          "base_uri": "https://localhost:8080/",
          "height": 136
        },
        "id": "8aJR9ahfY-kd",
        "outputId": "6bde4479-7ce3-4d1a-9c4c-efc9dc89c8f4"
      },
      "source": [
        "def convert_to_celsius(fahrenheit):\r\n",
        "return (fahrenheit - 32) * 5 / 9\r\n",
        "\r\n",
        "convert_to_celsius(80)"
      ],
      "execution_count": null,
      "outputs": [
        {
          "output_type": "error",
          "ename": "IndentationError",
          "evalue": "ignored",
          "traceback": [
            "\u001b[0;36m  File \u001b[0;32m\"<ipython-input-33-dfcc43b667cc>\"\u001b[0;36m, line \u001b[0;32m2\u001b[0m\n\u001b[0;31m    return (fahrenheit - 32) * 5 / 9\u001b[0m\n\u001b[0m         ^\u001b[0m\n\u001b[0;31mIndentationError\u001b[0m\u001b[0;31m:\u001b[0m expected an indented block\n"
          ]
        }
      ]
    },
    {
      "cell_type": "markdown",
      "metadata": {
        "id": "mjNATKsiZA_U"
      },
      "source": [
        "> 함수를 정의했을 땐 정의 내용을 어느 정도의 간격으로 띄워줘야 됨!"
      ]
    },
    {
      "cell_type": "code",
      "metadata": {
        "colab": {
          "base_uri": "https://localhost:8080/"
        },
        "id": "awB9XTm-ZFGN",
        "outputId": "66b2e891-57b0-4297-8e2e-5178a1134437"
      },
      "source": [
        "def convert_to_celsius(fahrenheit):\r\n",
        "  return (fahrenheit - 32) * 5 / 9\r\n",
        "\r\n",
        "convert_to_celsius(80)"
      ],
      "execution_count": null,
      "outputs": [
        {
          "output_type": "execute_result",
          "data": {
            "text/plain": [
              "26.666666666666668"
            ]
          },
          "metadata": {
            "tags": []
          },
          "execution_count": 34
        }
      ]
    },
    {
      "cell_type": "markdown",
      "metadata": {
        "id": "bNkgVTB9ZcCs"
      },
      "source": [
        ">1. Python **executes the function definition**, which creates the function object\r\n",
        "(but doesn’t execute it yet).\r\n",
        "2. Next, Python **executes function** call convert_to_celsius(80). To do this, it assigns 80 to fahrenheit (which is a variable). For the duration of this function call, fahrenheit refers to 80.\r\n",
        "3. Python now **executes the return statement**. fahrenheit refers to 80, so the\r\n",
        "expression that appears after return is equivalent to (80 - 32) * 5 /9. WhenPython evaluates that expression, 26.666666666666668 is produced. We use the word return to tell Python what value to produce as the result of the function call, so the result of calling convert_to_celsius(80) is 26.666666666666668.\r\n",
        "4. Once Python has finished executing the function call, it returns to the place where the function was originally called.\r\n"
      ]
    }
  ]
}